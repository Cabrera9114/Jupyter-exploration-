{
 "cells": [
  {
   "cell_type": "markdown",
   "id": "56ddbdc0-08c9-43d9-a2bb-5d26160892dc",
   "metadata": {},
   "source": [
    "My First markdown cell in Jupyter"
   ]
  },
  {
   "cell_type": "code",
   "execution_count": 1,
   "id": "a34deff6-bd42-482c-957b-c3ac4b3c2d57",
   "metadata": {},
   "outputs": [
    {
     "name": "stdout",
     "output_type": "stream",
     "text": [
      "Hello World\n"
     ]
    }
   ],
   "source": [
    "print(\"Hello World\")"
   ]
  },
  {
   "cell_type": "code",
   "execution_count": null,
   "id": "66f6cbcc-e490-441d-ac75-2e12a977d425",
   "metadata": {},
   "outputs": [],
   "source": []
  }
 ],
 "metadata": {
  "kernelspec": {
   "display_name": "Python 3 (ipykernel)",
   "language": "python",
   "name": "python3"
  },
  "language_info": {
   "codemirror_mode": {
    "name": "ipython",
    "version": 3
   },
   "file_extension": ".py",
   "mimetype": "text/x-python",
   "name": "python",
   "nbconvert_exporter": "python",
   "pygments_lexer": "ipython3",
   "version": "3.12.6"
  }
 },
 "nbformat": 4,
 "nbformat_minor": 5
}
